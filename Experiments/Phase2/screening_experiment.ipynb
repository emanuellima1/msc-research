{
 "cells": [
  {
   "cell_type": "markdown",
   "metadata": {},
   "source": [
    "# Screening and Random Designs\n",
    "\n",
    "We generate *Plackett-Burman* designs for screening and computing main effects of factors using a linear model fit. \n",
    "\n",
    "## Setup\n",
    "\n",
    "Check if `ExperimentalDesign` is installed. [More information](https://phrb.github.io/ExperimentalDesign.jl/dev/)."
   ]
  },
  {
   "cell_type": "code",
   "execution_count": 2,
   "metadata": {},
   "outputs": [
    {
     "name": "stderr",
     "output_type": "stream",
     "text": [
      "\u001b[32m\u001b[1m   Updating\u001b[22m\u001b[39m registry at `~/.julia/registries/General`\n"
     ]
    },
    {
     "name": "stdout",
     "output_type": "stream",
     "text": [
      "\u001b[?25l    "
     ]
    },
    {
     "name": "stderr",
     "output_type": "stream",
     "text": [
      "\u001b[32m\u001b[1m   Updating\u001b[22m\u001b[39m git-repo `https://github.com/JuliaRegistries/General.git`\n"
     ]
    },
    {
     "name": "stdout",
     "output_type": "stream",
     "text": [
      "\u001b[2K\u001b[?25h[1mFetching:\u001b[22m\u001b[39m [========================================>]  99.9 %\u001b[36m\u001b[1mFetching:\u001b[22m\u001b[39m [=====>                                   ]  11.4 %                          ]  34.7 % [===================>                     ]  47.4 %60.0 %          ]  72.9 %\u001b[36m\u001b[1mFetching:\u001b[22m\u001b[39m [==============================>          ]  73.4 %  ]  92.7 %\u001b[36m\u001b[1mFetching:\u001b[22m\u001b[39m [=======================================> ]  97.3 %"
     ]
    },
    {
     "name": "stderr",
     "output_type": "stream",
     "text": [
      "\u001b[32m\u001b[1m  Resolving\u001b[22m\u001b[39m package versions...\n",
      "\u001b[32m\u001b[1m  Installed\u001b[22m\u001b[39m Zlib_jll ───── v1.2.11+14\n",
      "\u001b[32m\u001b[1m  Installed\u001b[22m\u001b[39m OpenSSL_jll ── v1.1.1+4\n",
      "\u001b[32m\u001b[1m  Installed\u001b[22m\u001b[39m OpenBLAS_jll ─ v0.3.9+5\n",
      "\u001b[32m\u001b[1m  Installed\u001b[22m\u001b[39m ZeroMQ_jll ─── v4.3.2+4\n",
      "\u001b[32m\u001b[1m  Installed\u001b[22m\u001b[39m Rmath_jll ──── v0.2.2+1\n",
      "######################################################################### 100,0%##O#- #                                                                        \n",
      "######################################################################### 100,0%##O=#  #                                                                                                       6,6%#############################                                60,2%\n",
      "######################################################################### 100,0%################################################# 100,0%##O#- #                                                                        \n",
      "######################################################################### 100,0%##O#- #                                                                        \n",
      "\u001b[32m\u001b[1m   Updating\u001b[22m\u001b[39m `~/.julia/environments/v1.4/Project.toml`\n",
      "\u001b[90m [no changes]\u001b[39m\n",
      "\u001b[32m\u001b[1m   Updating\u001b[22m\u001b[39m `~/.julia/environments/v1.4/Manifest.toml`\n",
      " \u001b[90m [4536629a]\u001b[39m\u001b[93m ↑ OpenBLAS_jll v0.3.9+4 ⇒ v0.3.9+5\u001b[39m\n",
      " \u001b[90m [458c3c95]\u001b[39m\u001b[93m ↑ OpenSSL_jll v1.1.1+2 ⇒ v1.1.1+4\u001b[39m\n",
      " \u001b[90m [f50d1b31]\u001b[39m\u001b[93m ↑ Rmath_jll v0.2.2+0 ⇒ v0.2.2+1\u001b[39m\n",
      " \u001b[90m [8f1865be]\u001b[39m\u001b[93m ↑ ZeroMQ_jll v4.3.2+3 ⇒ v4.3.2+4\u001b[39m\n",
      " \u001b[90m [83775a58]\u001b[39m\u001b[93m ↑ Zlib_jll v1.2.11+10 ⇒ v1.2.11+14\u001b[39m\n",
      "\u001b[32m\u001b[1m  Resolving\u001b[22m\u001b[39m package versions...\n",
      "\u001b[32m\u001b[1m   Updating\u001b[22m\u001b[39m `~/.julia/environments/v1.4/Project.toml`\n",
      "\u001b[90m [no changes]\u001b[39m\n",
      "\u001b[32m\u001b[1m   Updating\u001b[22m\u001b[39m `~/.julia/environments/v1.4/Manifest.toml`\n",
      "\u001b[90m [no changes]\u001b[39m\n",
      "\u001b[32m\u001b[1m  Resolving\u001b[22m\u001b[39m package versions...\n",
      "\u001b[32m\u001b[1m   Updating\u001b[22m\u001b[39m `~/.julia/environments/v1.4/Project.toml`\n",
      "\u001b[90m [no changes]\u001b[39m\n",
      "\u001b[32m\u001b[1m   Updating\u001b[22m\u001b[39m `~/.julia/environments/v1.4/Manifest.toml`\n",
      "\u001b[90m [no changes]\u001b[39m\n",
      "\u001b[32m\u001b[1m  Resolving\u001b[22m\u001b[39m package versions...\n",
      "\u001b[32m\u001b[1m   Updating\u001b[22m\u001b[39m `~/.julia/environments/v1.4/Project.toml`\n",
      "\u001b[90m [no changes]\u001b[39m\n",
      "\u001b[32m\u001b[1m   Updating\u001b[22m\u001b[39m `~/.julia/environments/v1.4/Manifest.toml`\n",
      "\u001b[90m [no changes]\u001b[39m\n"
     ]
    },
    {
     "name": "stdout",
     "output_type": "stream",
     "text": [
      "\u001b[32m\u001b[1mStatus\u001b[22m\u001b[39m `~/.julia/environments/v1.4/Project.toml`\n",
      " \u001b[90m [336ed68f]\u001b[39m\u001b[37m CSV v0.6.1\u001b[39m\n",
      " \u001b[90m [a0b5b9ef]\u001b[39m\u001b[37m Cxx v0.4.0\u001b[39m\n",
      " \u001b[90m [a93c6f00]\u001b[39m\u001b[37m DataFrames v0.20.2\u001b[39m\n",
      " \u001b[90m [31c24e10]\u001b[39m\u001b[37m Distributions v0.23.2\u001b[39m\n",
      " \u001b[90m [4babbea4]\u001b[39m\u001b[37m ExperimentalDesign v0.2.0 #master (https://github.com/phrb/ExperimentalDesign.jl/)\u001b[39m\n",
      " \u001b[90m [38e38edf]\u001b[39m\u001b[37m GLM v1.3.9\u001b[39m\n",
      " \u001b[90m [7073ff75]\u001b[39m\u001b[37m IJulia v1.21.2\u001b[39m\n",
      " \u001b[90m [47be7bcc]\u001b[39m\u001b[37m ORCA v0.3.1\u001b[39m\n",
      " \u001b[90m [58dd65bb]\u001b[39m\u001b[37m Plotly v0.3.0 #master (https://github.com/plotly/Plotly.jl)\u001b[39m\n",
      " \u001b[90m [f0f68f2c]\u001b[39m\u001b[37m PlotlyJS v0.13.1\u001b[39m\n",
      " \u001b[90m [91a5bcdd]\u001b[39m\u001b[37m Plots v1.3.5\u001b[39m\n",
      " \u001b[90m [1a8c2f83]\u001b[39m\u001b[37m Query v0.12.2\u001b[39m\n",
      " \u001b[90m [3eaba693]\u001b[39m\u001b[37m StatsModels v0.6.11\u001b[39m\n",
      " \u001b[90m [f3b207a7]\u001b[39m\u001b[37m StatsPlots v0.14.6\u001b[39m\n",
      " \u001b[90m [0f1e0344]\u001b[39m\u001b[37m WebIO v0.8.14\u001b[39m\n",
      " \u001b[90m [9a3f8284]\u001b[39m\u001b[37m Random \u001b[39m\n",
      " \u001b[90m [10745b16]\u001b[39m\u001b[37m Statistics \u001b[39m\n"
     ]
    }
   ],
   "source": [
    "using Pkg\n",
    "Pkg.add(\"StatsModels\")\n",
    "Pkg.add(\"Distributions\")\n",
    "Pkg.add(\"Random\")\n",
    "Pkg.add(\"GLM\")\n",
    "Pkg.status()"
   ]
  },
  {
   "cell_type": "code",
   "execution_count": 2,
   "metadata": {},
   "outputs": [
    {
     "name": "stderr",
     "output_type": "stream",
     "text": [
      "\u001b[32m\u001b[1m   Updating\u001b[22m\u001b[39m registry at `~/.julia/registries/General`\n"
     ]
    },
    {
     "name": "stdout",
     "output_type": "stream",
     "text": [
      "\u001b[?25l    "
     ]
    },
    {
     "name": "stderr",
     "output_type": "stream",
     "text": [
      "\u001b[32m\u001b[1m   Updating\u001b[22m\u001b[39m git-repo `https://github.com/JuliaRegistries/General.git`\n"
     ]
    },
    {
     "name": "stdout",
     "output_type": "stream",
     "text": [
      "\u001b[2K\u001b[?25h[1mFetching:\u001b[22m\u001b[39m [========================================>]  100.0 %"
     ]
    },
    {
     "name": "stderr",
     "output_type": "stream",
     "text": [
      "julia version requirement for package `ExperimentalDesign [4babbea4]` not satisfied\n",
      "\u001b[32m\u001b[1m  Installed\u001b[22m\u001b[39m LAME_jll ──────── v3.100.0+1\n",
      "\u001b[32m\u001b[1m  Installed\u001b[22m\u001b[39m URIParser ─────── v0.4.1\n",
      "\u001b[32m\u001b[1m  Installed\u001b[22m\u001b[39m PlotUtils ─────── v1.0.2\n",
      "\u001b[32m\u001b[1m  Installed\u001b[22m\u001b[39m RecipesPipeline ─ v0.1.9\n",
      "\u001b[32m\u001b[1m  Installed\u001b[22m\u001b[39m GeometryTypes ─── v0.8.3\n",
      "\u001b[32m\u001b[1m  Installed\u001b[22m\u001b[39m Plots ─────────── v1.2.2\n",
      "\u001b[32m\u001b[1m  Installed\u001b[22m\u001b[39m Blink ─────────── v0.12.3\n",
      "\u001b[32m\u001b[1m  Installed\u001b[22m\u001b[39m ColorTypes ────── v0.10.3\n",
      "\u001b[32m\u001b[1m  Installed\u001b[22m\u001b[39m libfdk_aac_jll ── v0.1.6+2\n",
      "\u001b[32m\u001b[1m  Installed\u001b[22m\u001b[39m x265_jll ──────── v3.0.0+1\n",
      "\u001b[32m\u001b[1m  Installed\u001b[22m\u001b[39m BinDeps ───────── v1.0.1\n",
      "\u001b[32m\u001b[1m  Installed\u001b[22m\u001b[39m FFMPEG_jll ────── v4.1.0+3\n",
      "\u001b[32m\u001b[1m  Installed\u001b[22m\u001b[39m Mux ───────────── v0.7.0\n",
      "\u001b[32m\u001b[1m  Installed\u001b[22m\u001b[39m libass_jll ────── v0.14.0+2\n",
      "\u001b[32m\u001b[1m  Installed\u001b[22m\u001b[39m Opus_jll ──────── v1.3.1+1\n",
      "\u001b[32m\u001b[1m  Installed\u001b[22m\u001b[39m libvorbis_jll ─── v1.3.6+4\n",
      "\u001b[32m\u001b[1m  Installed\u001b[22m\u001b[39m FriBidi_jll ───── v1.0.5+3\n",
      "\u001b[32m\u001b[1m  Installed\u001b[22m\u001b[39m HTTP ──────────── v0.8.14\n",
      "\u001b[32m\u001b[1m  Installed\u001b[22m\u001b[39m Ogg_jll ───────── v1.3.4+0\n",
      "\u001b[32m\u001b[1m  Installed\u001b[22m\u001b[39m StaticArrays ──── v0.12.3\n",
      "\u001b[32m\u001b[1m  Installed\u001b[22m\u001b[39m Lazy ──────────── v0.15.0\n",
      "\u001b[32m\u001b[1m  Installed\u001b[22m\u001b[39m x264_jll ──────── v2019.5.25+2\n",
      "\u001b[32m\u001b[1m  Installed\u001b[22m\u001b[39m GR ────────────── v0.49.1\n",
      "######################################################################### 100,0%##O=#  #                                                                       \n",
      "######################################################################### 100,0%##O=#  #                                                                       \n",
      "######################################################################### 100,0%##O=#  #                                                                       \n",
      "########################################################################   98,9%##O=#  #                                                                       #######################       94,0%########################## 100,0%\n",
      "######################################################################### 100,0%##O=#  #                                                                       \n",
      "######################################################################### 100,0%##O=#  #                                                                                                55,0%\n",
      "######################################################################### 100,0%##O=#  #                                                                       \n",
      "######################################################################### 100,0%##O=#  #                                                                       \n",
      "######################################################################### 100,0%##O=#  #                                                                       \n",
      "######################################################################### 100,0%##O=#  #                                                                       \n",
      "\u001b[32m\u001b[1m   Updating\u001b[22m\u001b[39m `~/.julia/environments/v1.4/Project.toml`\n",
      " \u001b[90m [7073ff75]\u001b[39m\u001b[93m ↑ IJulia v1.21.1 ⇒ v1.21.2\u001b[39m\n",
      " \u001b[90m [91a5bcdd]\u001b[39m\u001b[93m ↑ Plots v1.0.3 ⇒ v1.2.2\u001b[39m\n",
      "\u001b[32m\u001b[1m   Updating\u001b[22m\u001b[39m `~/.julia/environments/v1.4/Manifest.toml`\n",
      " \u001b[90m [9e28174c]\u001b[39m\u001b[93m ↑ BinDeps v1.0.0 ⇒ v1.0.1\u001b[39m\n",
      " \u001b[90m [b99e7846]\u001b[39m\u001b[91m - BinaryProvider v0.5.8\u001b[39m\n",
      " \u001b[90m [ad839575]\u001b[39m\u001b[93m ↑ Blink v0.12.2 ⇒ v0.12.3\u001b[39m\n",
      " \u001b[90m [35d6a980]\u001b[39m\u001b[92m + ColorSchemes v3.9.0\u001b[39m\n",
      " \u001b[90m [3da002f7]\u001b[39m\u001b[93m ↑ ColorTypes v0.10.0 ⇒ v0.10.3\u001b[39m\n",
      " \u001b[90m [34da2185]\u001b[39m\u001b[93m ↑ Compat v3.8.0 ⇒ v3.9.0\u001b[39m\n",
      " \u001b[90m [e66e0078]\u001b[39m\u001b[93m ↑ CompilerSupportLibraries_jll v0.3.1+0 ⇒ v0.3.3+0\u001b[39m\n",
      " \u001b[90m [9a962f9c]\u001b[39m\u001b[93m ↑ DataAPI v1.1.0 ⇒ v1.3.0\u001b[39m\n",
      " \u001b[90m [864edb3b]\u001b[39m\u001b[93m ↑ DataStructures v0.17.10 ⇒ v0.17.15\u001b[39m\n",
      " \u001b[90m [e30172f5]\u001b[39m\u001b[93m ↑ Documenter v0.24.7 ⇒ v0.24.11\u001b[39m\n",
      " \u001b[90m [b22a6f82]\u001b[39m\u001b[93m ↑ FFMPEG_jll v4.1.0+2 ⇒ v4.1.0+3\u001b[39m\n",
      " \u001b[90m [1a297f60]\u001b[39m\u001b[93m ↑ FillArrays v0.8.5 ⇒ v0.8.8\u001b[39m\n",
      " \u001b[90m [559328eb]\u001b[39m\u001b[93m ↑ FriBidi_jll v1.0.5+2 ⇒ v1.0.5+3\u001b[39m\n",
      " \u001b[90m [38e38edf]\u001b[39m\u001b[93m ↑ GLM v1.3.8 ⇒ v1.3.9\u001b[39m\n",
      " \u001b[90m [28b8d3ca]\u001b[39m\u001b[93m ↑ GR v0.48.0 ⇒ v0.49.1\u001b[39m\n",
      " \u001b[90m [4d00f742]\u001b[39m\u001b[93m ↑ GeometryTypes v0.8.2 ⇒ v0.8.3\u001b[39m\n",
      " \u001b[90m [cd3eb016]\u001b[39m\u001b[93m ↑ HTTP v0.8.13 ⇒ v0.8.14\u001b[39m\n",
      " \u001b[90m [7073ff75]\u001b[39m\u001b[93m ↑ IJulia v1.21.1 ⇒ v1.21.2\u001b[39m\n",
      " \u001b[90m [c1c5ebd0]\u001b[39m\u001b[93m ↑ LAME_jll v3.100.0+0 ⇒ v3.100.0+1\u001b[39m\n",
      " \u001b[90m [50d2b5c4]\u001b[39m\u001b[93m ↑ Lazy v0.14.0 ⇒ v0.15.0\u001b[39m\n",
      " \u001b[90m [739be429]\u001b[39m\u001b[93m ↑ MbedTLS v0.7.0 ⇒ v1.0.2\u001b[39m\n",
      " \u001b[90m [c8ffd9c3]\u001b[39m\u001b[92m + MbedTLS_jll v2.16.0+2\u001b[39m\n",
      " \u001b[90m [a975b10e]\u001b[39m\u001b[95m ↓ Mux v0.7.1 ⇒ v0.7.0\u001b[39m\n",
      " \u001b[90m [e7412a2a]\u001b[39m\u001b[93m ↑ Ogg_jll v1.3.3+0 ⇒ v1.3.4+0\u001b[39m\n",
      " \u001b[90m [4536629a]\u001b[39m\u001b[93m ↑ OpenBLAS_jll v0.3.7+9 ⇒ v0.3.9+4\u001b[39m\n",
      " \u001b[90m [91d4177d]\u001b[39m\u001b[93m ↑ Opus_jll v1.3.1+0 ⇒ v1.3.1+1\u001b[39m\n",
      " \u001b[90m [bac558e1]\u001b[39m\u001b[93m ↑ OrderedCollections v1.1.0 ⇒ v1.2.0\u001b[39m\n",
      " \u001b[90m [69de0a69]\u001b[39m\u001b[93m ↑ Parsers v1.0.0 ⇒ v1.0.3\u001b[39m\n",
      " \u001b[90m [ccf2f8ad]\u001b[39m\u001b[93m ↑ PlotThemes v1.0.3 ⇒ v2.0.0\u001b[39m\n",
      " \u001b[90m [995b91a9]\u001b[39m\u001b[93m ↑ PlotUtils v0.6.5 ⇒ v1.0.2\u001b[39m\n",
      " \u001b[90m [91a5bcdd]\u001b[39m\u001b[93m ↑ Plots v1.0.3 ⇒ v1.2.2\u001b[39m\n",
      " \u001b[90m [3cdcf5f2]\u001b[39m\u001b[93m ↑ RecipesBase v1.0.0 ⇒ v1.0.1\u001b[39m\n",
      " \u001b[90m [01d81517]\u001b[39m\u001b[92m + RecipesPipeline v0.1.9\u001b[39m\n",
      " \u001b[90m [90137ffa]\u001b[39m\u001b[93m ↑ StaticArrays v0.12.1 ⇒ v0.12.3\u001b[39m\n",
      " \u001b[90m [3eaba693]\u001b[39m\u001b[93m ↑ StatsModels v0.6.10 ⇒ v0.6.11\u001b[39m\n",
      " \u001b[90m [bd369af6]\u001b[39m\u001b[93m ↑ Tables v1.0.3 ⇒ v1.0.4\u001b[39m\n",
      " \u001b[90m [30578b45]\u001b[39m\u001b[93m ↑ URIParser v0.4.0 ⇒ v0.4.1\u001b[39m\n",
      " \u001b[90m [8f1865be]\u001b[39m\u001b[93m ↑ ZeroMQ_jll v4.3.2+1 ⇒ v4.3.2+2\u001b[39m\n",
      " \u001b[90m [0ac62f75]\u001b[39m\u001b[93m ↑ libass_jll v0.14.0+1 ⇒ v0.14.0+2\u001b[39m\n",
      " \u001b[90m [f638f0a6]\u001b[39m\u001b[93m ↑ libfdk_aac_jll v0.1.6+1 ⇒ v0.1.6+2\u001b[39m\n",
      " \u001b[90m [f27f6e37]\u001b[39m\u001b[93m ↑ libvorbis_jll v1.3.6+2 ⇒ v1.3.6+4\u001b[39m\n",
      " \u001b[90m [1270edf5]\u001b[39m\u001b[93m ↑ x264_jll v2019.5.25+1 ⇒ v2019.5.25+2\u001b[39m\n",
      " \u001b[90m [dfaa095f]\u001b[39m\u001b[93m ↑ x265_jll v3.0.0+0 ⇒ v3.0.0+1\u001b[39m\n",
      "\u001b[32m\u001b[1m   Building\u001b[22m\u001b[39m GR ───→ `~/.julia/packages/GR/cRdXQ/deps/build.log`\n",
      "\u001b[32m\u001b[1m   Building\u001b[22m\u001b[39m Plots → `~/.julia/packages/Plots/V8QVi/deps/build.log`\n",
      "\u001b[32m\u001b[1m   Building\u001b[22m\u001b[39m Blink → `~/.julia/packages/Blink/u1xcH/deps/build.log`\n"
     ]
    }
   ],
   "source": [
    "Pkg.update()"
   ]
  },
  {
   "cell_type": "code",
   "execution_count": 3,
   "metadata": {},
   "outputs": [
    {
     "name": "stderr",
     "output_type": "stream",
     "text": [
      "┌ Info: Precompiling ExperimentalDesign [4babbea4-9e7d-11e9-116f-e1ada04bd296]\n",
      "└ @ Base loading.jl:1260\n",
      "┌ Info: Precompiling GLM [38e38edf-8417-5370-95a0-9cbb8c7f171a]\n",
      "└ @ Base loading.jl:1260\n"
     ]
    }
   ],
   "source": [
    "using ExperimentalDesign, StatsModels, GLM, DataFrames, Distributions, Random"
   ]
  },
  {
   "cell_type": "markdown",
   "metadata": {},
   "source": [
    "# Generating Plackett-Burman Designs\n",
    "\n",
    "Generating a Plackett-Burman design for 16 factors:"
   ]
  },
  {
   "cell_type": "code",
   "execution_count": 12,
   "metadata": {
    "scrolled": true
   },
   "outputs": [
    {
     "data": {
      "text/html": [
       "<table class=\"data-frame\"><thead><tr><th></th><th>constprop</th><th>instcombine</th><th>argpromotion</th><th>jump-threading</th><th>lcssa</th><th>licm</th><th>loop-deletion</th></tr><tr><th></th><th>Int64</th><th>Int64</th><th>Int64</th><th>Int64</th><th>Int64</th><th>Int64</th><th>Int64</th></tr></thead><tbody><p>20 rows × 19 columns (omitted printing of 12 columns)</p><tr><th>1</th><td>1</td><td>1</td><td>1</td><td>1</td><td>1</td><td>1</td><td>1</td></tr><tr><th>2</th><td>1</td><td>1</td><td>-1</td><td>-1</td><td>-1</td><td>-1</td><td>1</td></tr><tr><th>3</th><td>1</td><td>-1</td><td>-1</td><td>-1</td><td>-1</td><td>1</td><td>-1</td></tr><tr><th>4</th><td>-1</td><td>-1</td><td>-1</td><td>-1</td><td>1</td><td>-1</td><td>1</td></tr><tr><th>5</th><td>-1</td><td>-1</td><td>-1</td><td>1</td><td>-1</td><td>1</td><td>-1</td></tr><tr><th>6</th><td>-1</td><td>-1</td><td>1</td><td>-1</td><td>1</td><td>-1</td><td>1</td></tr><tr><th>7</th><td>-1</td><td>1</td><td>-1</td><td>1</td><td>-1</td><td>1</td><td>1</td></tr><tr><th>8</th><td>1</td><td>-1</td><td>1</td><td>-1</td><td>1</td><td>1</td><td>1</td></tr><tr><th>9</th><td>-1</td><td>1</td><td>-1</td><td>1</td><td>1</td><td>1</td><td>1</td></tr><tr><th>10</th><td>1</td><td>-1</td><td>1</td><td>1</td><td>1</td><td>1</td><td>-1</td></tr><tr><th>11</th><td>-1</td><td>1</td><td>1</td><td>1</td><td>1</td><td>-1</td><td>-1</td></tr><tr><th>12</th><td>1</td><td>1</td><td>1</td><td>1</td><td>-1</td><td>-1</td><td>1</td></tr><tr><th>13</th><td>1</td><td>1</td><td>1</td><td>-1</td><td>-1</td><td>1</td><td>-1</td></tr><tr><th>14</th><td>1</td><td>1</td><td>-1</td><td>-1</td><td>1</td><td>-1</td><td>-1</td></tr><tr><th>15</th><td>1</td><td>-1</td><td>-1</td><td>1</td><td>-1</td><td>-1</td><td>1</td></tr><tr><th>16</th><td>-1</td><td>-1</td><td>1</td><td>-1</td><td>-1</td><td>1</td><td>1</td></tr><tr><th>17</th><td>-1</td><td>1</td><td>-1</td><td>-1</td><td>1</td><td>1</td><td>-1</td></tr><tr><th>18</th><td>1</td><td>-1</td><td>-1</td><td>1</td><td>1</td><td>-1</td><td>-1</td></tr><tr><th>19</th><td>-1</td><td>-1</td><td>1</td><td>1</td><td>-1</td><td>-1</td><td>-1</td></tr><tr><th>20</th><td>-1</td><td>1</td><td>1</td><td>-1</td><td>-1</td><td>-1</td><td>-1</td></tr></tbody></table>"
      ],
      "text/latex": [
       "\\begin{tabular}{r|cccccccc}\n",
       "\t& constprop & instcombine & argpromotion & jump-threading & lcssa & licm & loop-deletion & \\\\\n",
       "\t\\hline\n",
       "\t& Int64 & Int64 & Int64 & Int64 & Int64 & Int64 & Int64 & \\\\\n",
       "\t\\hline\n",
       "\t1 & 1 & 1 & 1 & 1 & 1 & 1 & 1 & $\\dots$ \\\\\n",
       "\t2 & 1 & 1 & -1 & -1 & -1 & -1 & 1 & $\\dots$ \\\\\n",
       "\t3 & 1 & -1 & -1 & -1 & -1 & 1 & -1 & $\\dots$ \\\\\n",
       "\t4 & -1 & -1 & -1 & -1 & 1 & -1 & 1 & $\\dots$ \\\\\n",
       "\t5 & -1 & -1 & -1 & 1 & -1 & 1 & -1 & $\\dots$ \\\\\n",
       "\t6 & -1 & -1 & 1 & -1 & 1 & -1 & 1 & $\\dots$ \\\\\n",
       "\t7 & -1 & 1 & -1 & 1 & -1 & 1 & 1 & $\\dots$ \\\\\n",
       "\t8 & 1 & -1 & 1 & -1 & 1 & 1 & 1 & $\\dots$ \\\\\n",
       "\t9 & -1 & 1 & -1 & 1 & 1 & 1 & 1 & $\\dots$ \\\\\n",
       "\t10 & 1 & -1 & 1 & 1 & 1 & 1 & -1 & $\\dots$ \\\\\n",
       "\t11 & -1 & 1 & 1 & 1 & 1 & -1 & -1 & $\\dots$ \\\\\n",
       "\t12 & 1 & 1 & 1 & 1 & -1 & -1 & 1 & $\\dots$ \\\\\n",
       "\t13 & 1 & 1 & 1 & -1 & -1 & 1 & -1 & $\\dots$ \\\\\n",
       "\t14 & 1 & 1 & -1 & -1 & 1 & -1 & -1 & $\\dots$ \\\\\n",
       "\t15 & 1 & -1 & -1 & 1 & -1 & -1 & 1 & $\\dots$ \\\\\n",
       "\t16 & -1 & -1 & 1 & -1 & -1 & 1 & 1 & $\\dots$ \\\\\n",
       "\t17 & -1 & 1 & -1 & -1 & 1 & 1 & -1 & $\\dots$ \\\\\n",
       "\t18 & 1 & -1 & -1 & 1 & 1 & -1 & -1 & $\\dots$ \\\\\n",
       "\t19 & -1 & -1 & 1 & 1 & -1 & -1 & -1 & $\\dots$ \\\\\n",
       "\t20 & -1 & 1 & 1 & -1 & -1 & -1 & -1 & $\\dots$ \\\\\n",
       "\\end{tabular}\n"
      ],
      "text/plain": [
       "20×19 DataFrame. Omitted printing of 14 columns\n",
       "│ Row │ constprop │ instcombine │ argpromotion │ jump-threading │ lcssa │\n",
       "│     │ \u001b[90mInt64\u001b[39m     │ \u001b[90mInt64\u001b[39m       │ \u001b[90mInt64\u001b[39m        │ \u001b[90mInt64\u001b[39m          │ \u001b[90mInt64\u001b[39m │\n",
       "├─────┼───────────┼─────────────┼──────────────┼────────────────┼───────┤\n",
       "│ 1   │ 1         │ 1           │ 1            │ 1              │ 1     │\n",
       "│ 2   │ 1         │ 1           │ -1           │ -1             │ -1    │\n",
       "│ 3   │ 1         │ -1          │ -1           │ -1             │ -1    │\n",
       "│ 4   │ -1        │ -1          │ -1           │ -1             │ 1     │\n",
       "│ 5   │ -1        │ -1          │ -1           │ 1              │ -1    │\n",
       "│ 6   │ -1        │ -1          │ 1            │ -1             │ 1     │\n",
       "│ 7   │ -1        │ 1           │ -1           │ 1              │ -1    │\n",
       "│ 8   │ 1         │ -1          │ 1            │ -1             │ 1     │\n",
       "│ 9   │ -1        │ 1           │ -1           │ 1              │ 1     │\n",
       "│ 10  │ 1         │ -1          │ 1            │ 1              │ 1     │\n",
       "│ 11  │ -1        │ 1           │ 1            │ 1              │ 1     │\n",
       "│ 12  │ 1         │ 1           │ 1            │ 1              │ -1    │\n",
       "│ 13  │ 1         │ 1           │ 1            │ -1             │ -1    │\n",
       "│ 14  │ 1         │ 1           │ -1           │ -1             │ 1     │\n",
       "│ 15  │ 1         │ -1          │ -1           │ 1              │ -1    │\n",
       "│ 16  │ -1        │ -1          │ 1            │ -1             │ -1    │\n",
       "│ 17  │ -1        │ 1           │ -1           │ -1             │ 1     │\n",
       "│ 18  │ 1         │ -1          │ -1           │ 1              │ 1     │\n",
       "│ 19  │ -1        │ -1          │ 1            │ 1              │ -1    │\n",
       "│ 20  │ -1        │ 1           │ 1            │ -1             │ -1    │"
      ]
     },
     "execution_count": 12,
     "metadata": {},
     "output_type": "execute_result"
    }
   ],
   "source": [
    "design = PlackettBurman(16)\n",
    "flags = [\"constprop\", \"instcombine\", \"argpromotion\", \"jump-threading\", \"lcssa\", \"licm\", \"loop-deletion\", \"loop-extract\", \"loop-reduce\", \"loop-rotate\", \"loop-simplify\", \"loop-unroll\", \"loop-unroll-and-jam\", \"loop-unswitch\", \"mem2reg\", \"memcpyopt\", \"dummy1\", \"dummy2\", \"dummy3\"]\n",
    "rename!(design.matrix, flags)"
   ]
  },
  {
   "cell_type": "markdown",
   "metadata": {},
   "source": [
    "This function generates the compiler command with the correct flags:"
   ]
  },
  {
   "cell_type": "code",
   "execution_count": 53,
   "metadata": {},
   "outputs": [
    {
     "data": {
      "text/plain": [
       "20-element Array{String,1}:\n",
       " \"RUSTFLAGS=-C lto=thin -C no-prepopulate-passes -C passes=name-anon-globals-C passes=memcpyopt -C passes=mem2reg -C passes=loop-unswitch -C passes=loop-unroll-and-jam -C passes=loop-unroll -C passes=loop-simplify -C passes=loop-rotate -C passes=loop-reduce -C passes=loop-extract -C passes=loop-deletion -C passes=licm -C passes=lcssa -C passes=jump-threading -C passes=argpromotion -C passes=instcombine -C passes=constprop cargo build\"\n",
       " \"RUSTFLAGS=-C lto=thin -C no-prepopulate-passes -C passes=name-anon-globals-C passes=loop-unswitch -C passes=loop-unroll-and-jam -C passes=loop-unroll -C passes=loop-simplify -C passes=loop-reduce -C passes=loop-deletion -C passes=instcombine -C passes=constprop cargo build\"\n",
       " \"RUSTFLAGS=-C lto=thin -C no-prepopulate-passes -C passes=name-anon-globals-C passes=memcpyopt -C passes=loop-unroll-and-jam -C passes=loop-unroll -C passes=loop-simplify -C passes=loop-rotate -C passes=loop-extract -C passes=licm -C passes=constprop cargo build\"\n",
       " \"RUSTFLAGS=-C lto=thin -C no-prepopulate-passes -C passes=name-anon-globals-C passes=mem2reg -C passes=loop-unroll -C passes=loop-simplify -C passes=loop-rotate -C passes=loop-reduce -C passes=loop-deletion -C passes=lcssa cargo build\"\n",
       " \"RUSTFLAGS=-C lto=thin -C no-prepopulate-passes -C passes=name-anon-globals-C passes=loop-unswitch -C passes=loop-simplify -C passes=loop-rotate -C passes=loop-reduce -C passes=loop-extract -C passes=licm -C passes=jump-threading cargo build\"\n",
       " \"RUSTFLAGS=-C lto=thin -C no-prepopulate-passes -C passes=name-anon-globals-C passes=memcpyopt -C passes=loop-unroll-and-jam -C passes=loop-rotate -C passes=loop-reduce -C passes=loop-extract -C passes=loop-deletion -C passes=lcssa -C passes=argpromotion cargo build\"\n",
       " \"RUSTFLAGS=-C lto=thin -C no-prepopulate-passes -C passes=name-anon-globals-C passes=memcpyopt -C passes=mem2reg -C passes=loop-unroll -C passes=loop-reduce -C passes=loop-extract -C passes=loop-deletion -C passes=licm -C passes=jump-threading -C passes=instcombine cargo build\"\n",
       " \"RUSTFLAGS=-C lto=thin -C no-prepopulate-passes -C passes=name-anon-globals-C passes=mem2reg -C passes=loop-unswitch -C passes=loop-simplify -C passes=loop-extract -C passes=loop-deletion -C passes=licm -C passes=lcssa -C passes=argpromotion -C passes=constprop cargo build\"\n",
       " \"RUSTFLAGS=-C lto=thin -C no-prepopulate-passes -C passes=name-anon-globals-C passes=loop-unswitch -C passes=loop-unroll-and-jam -C passes=loop-rotate -C passes=loop-deletion -C passes=licm -C passes=lcssa -C passes=jump-threading -C passes=instcombine cargo build\"\n",
       " \"RUSTFLAGS=-C lto=thin -C no-prepopulate-passes -C passes=name-anon-globals-C passes=loop-unroll-and-jam -C passes=loop-unroll -C passes=loop-reduce -C passes=licm -C passes=lcssa -C passes=jump-threading -C passes=argpromotion -C passes=constprop cargo build\"\n",
       " \"RUSTFLAGS=-C lto=thin -C no-prepopulate-passes -C passes=name-anon-globals-C passes=loop-unroll -C passes=loop-simplify -C passes=loop-extract -C passes=lcssa -C passes=jump-threading -C passes=argpromotion -C passes=instcombine cargo build\"\n",
       " \"RUSTFLAGS=-C lto=thin -C no-prepopulate-passes -C passes=name-anon-globals-C passes=memcpyopt -C passes=loop-simplify -C passes=loop-rotate -C passes=loop-deletion -C passes=jump-threading -C passes=argpromotion -C passes=instcombine -C passes=constprop cargo build\"\n",
       " \"RUSTFLAGS=-C lto=thin -C no-prepopulate-passes -C passes=name-anon-globals-C passes=mem2reg -C passes=loop-rotate -C passes=loop-reduce -C passes=licm -C passes=argpromotion -C passes=instcombine -C passes=constprop cargo build\"\n",
       " \"RUSTFLAGS=-C lto=thin -C no-prepopulate-passes -C passes=name-anon-globals-C passes=memcpyopt -C passes=loop-unswitch -C passes=loop-reduce -C passes=loop-extract -C passes=lcssa -C passes=instcombine -C passes=constprop cargo build\"\n",
       " \"RUSTFLAGS=-C lto=thin -C no-prepopulate-passes -C passes=name-anon-globals-C passes=mem2reg -C passes=loop-unroll-and-jam -C passes=loop-extract -C passes=loop-deletion -C passes=jump-threading -C passes=constprop cargo build\"\n",
       " \"RUSTFLAGS=-C lto=thin -C no-prepopulate-passes -C passes=name-anon-globals-C passes=memcpyopt -C passes=loop-unswitch -C passes=loop-unroll -C passes=loop-deletion -C passes=licm -C passes=argpromotion cargo build\"\n",
       " \"RUSTFLAGS=-C lto=thin -C no-prepopulate-passes -C passes=name-anon-globals-C passes=memcpyopt -C passes=mem2reg -C passes=loop-unroll-and-jam -C passes=loop-simplify -C passes=licm -C passes=lcssa -C passes=instcombine cargo build\"\n",
       " \"RUSTFLAGS=-C lto=thin -C no-prepopulate-passes -C passes=name-anon-globals-C passes=memcpyopt -C passes=mem2reg -C passes=loop-unswitch -C passes=loop-unroll -C passes=loop-rotate -C passes=lcssa -C passes=jump-threading -C passes=constprop cargo build\"\n",
       " \"RUSTFLAGS=-C lto=thin -C no-prepopulate-passes -C passes=name-anon-globals-C passes=memcpyopt -C passes=mem2reg -C passes=loop-unswitch -C passes=loop-unroll-and-jam -C passes=loop-simplify -C passes=loop-reduce -C passes=jump-threading -C passes=argpromotion cargo build\"\n",
       " \"RUSTFLAGS=-C lto=thin -C no-prepopulate-passes -C passes=name-anon-globals-C passes=mem2reg -C passes=loop-unswitch -C passes=loop-unroll-and-jam -C passes=loop-unroll -C passes=loop-rotate -C passes=loop-extract -C passes=argpromotion -C passes=instcombine cargo build\""
      ]
     },
     "execution_count": 53,
     "metadata": {},
     "output_type": "execute_result"
    }
   ],
   "source": [
    "function generate_command(line, flags)\n",
    "    cmd = \"cargo build\"\n",
    "    for i in 1:length(flags)\n",
    "        if line[i] > 0\n",
    "            cmd = \"-C passes=\" * flags[i] * \" \" * cmd\n",
    "        end\n",
    "    end\n",
    "    cmd = \"RUSTFLAGS=-C lto=thin -C no-prepopulate-passes -C passes=name-anon-globals\" * cmd\n",
    "    return cmd\n",
    "end\n",
    "\n",
    "flags = [\"constprop\", \"instcombine\", \"argpromotion\", \"jump-threading\", \"lcssa\", \"licm\", \"loop-deletion\", \"loop-extract\", \"loop-reduce\", \"loop-rotate\", \"loop-simplify\", \"loop-unroll\", \"loop-unroll-and-jam\", \"loop-unswitch\", \"mem2reg\", \"memcpyopt\"]\n",
    "\n",
    "generate_command.(eachrow(design.matrix[:, :]), repeat([flags], 20))"
   ]
  },
  {
   "cell_type": "code",
   "execution_count": 54,
   "metadata": {},
   "outputs": [
    {
     "name": "stdout",
     "output_type": "stream",
     "text": [
      "response ~ -1 + factor1 + factor2 + factor3 + factor4 + factor5 + factor6 + factor7 + factor8 + factor9 + factor10 + factor11 + factor12 + factor13 + factor14 + factor15 + factor16 + dummy1 + dummy2 + dummy3\n"
     ]
    }
   ],
   "source": [
    "println(design.formula)"
   ]
  },
  {
   "cell_type": "code",
   "execution_count": 55,
   "metadata": {},
   "outputs": [
    {
     "data": {
      "text/plain": [
       "(:dummy1, :dummy2, :dummy3)"
      ]
     },
     "execution_count": 55,
     "metadata": {},
     "output_type": "execute_result"
    }
   ],
   "source": [
    "design.dummy_factors"
   ]
  },
  {
   "cell_type": "markdown",
   "metadata": {},
   "source": [
    "We can also get the main factors tuple:"
   ]
  },
  {
   "cell_type": "code",
   "execution_count": 1,
   "metadata": {},
   "outputs": [
    {
     "ename": "UndefVarError",
     "evalue": "UndefVarError: design not defined",
     "output_type": "error",
     "traceback": [
      "UndefVarError: design not defined",
      "",
      "Stacktrace:",
      " [1] top-level scope at In[1]:1"
     ]
    }
   ],
   "source": [
    "design.factors"
   ]
  },
  {
   "cell_type": "markdown",
   "metadata": {},
   "source": [
    "# Computing Main Effects\n",
    "\n",
    "The function we want to optimize is y(x), where x is a set of flags. The function returns the execution time of the executable compiled with x."
   ]
  },
  {
   "cell_type": "code",
   "execution_count": 59,
   "metadata": {},
   "outputs": [
    {
     "data": {
      "text/plain": [
       "y (generic function with 1 method)"
      ]
     },
     "execution_count": 59,
     "metadata": {},
     "output_type": "execute_result"
    }
   ],
   "source": [
    "# x is a set of flags\n",
    "function y(x)\n",
    "    env_flags = \"\"\n",
    "    \n",
    "    for i in 1:length(x)\n",
    "        if x[i] > 0\n",
    "            env_flags = \"-C passes=\" * flags[i] * \" \" * env_flags\n",
    "        end\n",
    "    end\n",
    "    \n",
    "    env_flags = \"-C lto=off -C no-prepopulate-passes -C passes=name-anon-globals \" * env_flags\n",
    "    \n",
    "    cmd = `cargo build --manifest-path ../heap_vec_nolib/Cargo.toml`\n",
    "    \n",
    "    println(env_flags)\n",
    "    println(cmd)\n",
    "\n",
    "    ENV[\"RUSTFLAGS\"] = env_flags\n",
    "\n",
    "    run(cmd)\n",
    "    \n",
    "    exec_time = @elapsed run(`../heap_vec_nolib/target/debug/matrix-multiply-raw`)\n",
    "    \n",
    "    return exec_time\n",
    "end"
   ]
  },
  {
   "cell_type": "code",
   "execution_count": 60,
   "metadata": {},
   "outputs": [
    {
     "name": "stdout",
     "output_type": "stream",
     "text": [
      "-C lto=off -C no-prepopulate-passes -C passes=name-anon-globals -C passes=memcpyopt -C passes=mem2reg -C passes=loop-unswitch -C passes=loop-unroll-and-jam -C passes=loop-unroll -C passes=loop-simplify -C passes=loop-rotate -C passes=loop-reduce -C passes=loop-extract -C passes=loop-deletion -C passes=licm -C passes=lcssa -C passes=jump-threading -C passes=argpromotion -C passes=instcombine -C passes=constprop \n",
      "`\u001b[4mcargo\u001b[24m \u001b[4mbuild\u001b[24m \u001b[4m--manifest-path\u001b[24m \u001b[4m../heap_vec_nolib/Cargo.toml\u001b[24m`\n"
     ]
    },
    {
     "name": "stderr",
     "output_type": "stream",
     "text": [
      "    Finished dev [unoptimized + debuginfo] target(s) in 0.00s\n"
     ]
    },
    {
     "name": "stdout",
     "output_type": "stream",
     "text": [
      "-C lto=off -C no-prepopulate-passes -C passes=name-anon-globals -C passes=loop-unswitch -C passes=loop-unroll-and-jam -C passes=loop-unroll -C passes=loop-simplify -C passes=loop-reduce -C passes=loop-deletion -C passes=instcombine -C passes=constprop \n",
      "`\u001b[4mcargo\u001b[24m \u001b[4mbuild\u001b[24m \u001b[4m--manifest-path\u001b[24m \u001b[4m../heap_vec_nolib/Cargo.toml\u001b[24m`\n"
     ]
    },
    {
     "name": "stderr",
     "output_type": "stream",
     "text": [
      "   Compiling libc v0.2.69\n",
      "   Compiling getrandom v0.1.14\n",
      "   Compiling cfg-if v0.1.10\n",
      "   Compiling ppv-lite86 v0.2.6\n",
      "   Compiling rand_core v0.5.1\n",
      "   Compiling rand_chacha v0.2.2\n",
      "   Compiling rand v0.7.3\n",
      "   Compiling matrix-multiply-raw v0.1.0 (/home/emanuel/Documentos/Git/matrix-multiply-test/heap_vec_nolib)\n",
      "    Finished dev [unoptimized + debuginfo] target(s) in 2.80s\n"
     ]
    },
    {
     "name": "stdout",
     "output_type": "stream",
     "text": [
      "-C lto=off -C no-prepopulate-passes -C passes=name-anon-globals -C passes=memcpyopt -C passes=loop-unroll-and-jam -C passes=loop-unroll -C passes=loop-simplify -C passes=loop-rotate -C passes=loop-extract -C passes=licm -C passes=constprop \n",
      "`\u001b[4mcargo\u001b[24m \u001b[4mbuild\u001b[24m \u001b[4m--manifest-path\u001b[24m \u001b[4m../heap_vec_nolib/Cargo.toml\u001b[24m`\n"
     ]
    },
    {
     "name": "stderr",
     "output_type": "stream",
     "text": [
      "   Compiling libc v0.2.69\n",
      "   Compiling getrandom v0.1.14\n",
      "   Compiling cfg-if v0.1.10\n",
      "   Compiling ppv-lite86 v0.2.6\n",
      "   Compiling rand_core v0.5.1\n",
      "   Compiling rand_chacha v0.2.2\n",
      "   Compiling rand v0.7.3\n",
      "   Compiling matrix-multiply-raw v0.1.0 (/home/emanuel/Documentos/Git/matrix-multiply-test/heap_vec_nolib)\n",
      "    Finished dev [unoptimized + debuginfo] target(s) in 2.72s\n"
     ]
    },
    {
     "name": "stdout",
     "output_type": "stream",
     "text": [
      "-C lto=off -C no-prepopulate-passes -C passes=name-anon-globals -C passes=mem2reg -C passes=loop-unroll -C passes=loop-simplify -C passes=loop-rotate -C passes=loop-reduce -C passes=loop-deletion -C passes=lcssa \n",
      "`\u001b[4mcargo\u001b[24m \u001b[4mbuild\u001b[24m \u001b[4m--manifest-path\u001b[24m \u001b[4m../heap_vec_nolib/Cargo.toml\u001b[24m`\n"
     ]
    },
    {
     "name": "stderr",
     "output_type": "stream",
     "text": [
      "   Compiling libc v0.2.69\n",
      "   Compiling getrandom v0.1.14\n",
      "   Compiling cfg-if v0.1.10\n",
      "   Compiling ppv-lite86 v0.2.6\n",
      "   Compiling rand_core v0.5.1\n",
      "   Compiling rand_chacha v0.2.2\n",
      "   Compiling rand v0.7.3\n",
      "   Compiling matrix-multiply-raw v0.1.0 (/home/emanuel/Documentos/Git/matrix-multiply-test/heap_vec_nolib)\n",
      "    Finished dev [unoptimized + debuginfo] target(s) in 2.73s\n"
     ]
    },
    {
     "name": "stdout",
     "output_type": "stream",
     "text": [
      "-C lto=off -C no-prepopulate-passes -C passes=name-anon-globals -C passes=loop-unswitch -C passes=loop-simplify -C passes=loop-rotate -C passes=loop-reduce -C passes=loop-extract -C passes=licm -C passes=jump-threading \n",
      "`\u001b[4mcargo\u001b[24m \u001b[4mbuild\u001b[24m \u001b[4m--manifest-path\u001b[24m \u001b[4m../heap_vec_nolib/Cargo.toml\u001b[24m`\n"
     ]
    },
    {
     "name": "stderr",
     "output_type": "stream",
     "text": [
      "   Compiling libc v0.2.69\n",
      "   Compiling getrandom v0.1.14\n",
      "   Compiling cfg-if v0.1.10\n",
      "   Compiling ppv-lite86 v0.2.6\n",
      "   Compiling rand_core v0.5.1\n",
      "   Compiling rand_chacha v0.2.2\n",
      "   Compiling rand v0.7.3\n",
      "   Compiling matrix-multiply-raw v0.1.0 (/home/emanuel/Documentos/Git/matrix-multiply-test/heap_vec_nolib)\n",
      "    Finished dev [unoptimized + debuginfo] target(s) in 2.77s\n"
     ]
    },
    {
     "name": "stdout",
     "output_type": "stream",
     "text": [
      "-C lto=off -C no-prepopulate-passes -C passes=name-anon-globals -C passes=memcpyopt -C passes=loop-unroll-and-jam -C passes=loop-rotate -C passes=loop-reduce -C passes=loop-extract -C passes=loop-deletion -C passes=lcssa -C passes=argpromotion \n",
      "`\u001b[4mcargo\u001b[24m \u001b[4mbuild\u001b[24m \u001b[4m--manifest-path\u001b[24m \u001b[4m../heap_vec_nolib/Cargo.toml\u001b[24m`\n"
     ]
    },
    {
     "name": "stderr",
     "output_type": "stream",
     "text": [
      "   Compiling libc v0.2.69\n",
      "   Compiling getrandom v0.1.14\n",
      "   Compiling cfg-if v0.1.10\n",
      "   Compiling ppv-lite86 v0.2.6\n",
      "   Compiling rand_core v0.5.1\n",
      "   Compiling rand_chacha v0.2.2\n",
      "   Compiling rand v0.7.3\n",
      "   Compiling matrix-multiply-raw v0.1.0 (/home/emanuel/Documentos/Git/matrix-multiply-test/heap_vec_nolib)\n",
      "    Finished dev [unoptimized + debuginfo] target(s) in 2.72s\n"
     ]
    },
    {
     "name": "stdout",
     "output_type": "stream",
     "text": [
      "-C lto=off -C no-prepopulate-passes -C passes=name-anon-globals -C passes=memcpyopt -C passes=mem2reg -C passes=loop-unroll -C passes=loop-reduce -C passes=loop-extract -C passes=loop-deletion -C passes=licm -C passes=jump-threading -C passes=instcombine \n",
      "`\u001b[4mcargo\u001b[24m \u001b[4mbuild\u001b[24m \u001b[4m--manifest-path\u001b[24m \u001b[4m../heap_vec_nolib/Cargo.toml\u001b[24m`\n"
     ]
    },
    {
     "name": "stderr",
     "output_type": "stream",
     "text": [
      "   Compiling libc v0.2.69\n",
      "   Compiling getrandom v0.1.14\n",
      "   Compiling cfg-if v0.1.10\n",
      "   Compiling ppv-lite86 v0.2.6\n",
      "   Compiling rand_core v0.5.1\n",
      "   Compiling rand_chacha v0.2.2\n",
      "   Compiling rand v0.7.3\n",
      "   Compiling matrix-multiply-raw v0.1.0 (/home/emanuel/Documentos/Git/matrix-multiply-test/heap_vec_nolib)\n",
      "    Finished dev [unoptimized + debuginfo] target(s) in 2.70s\n"
     ]
    },
    {
     "name": "stdout",
     "output_type": "stream",
     "text": [
      "-C lto=off -C no-prepopulate-passes -C passes=name-anon-globals -C passes=mem2reg -C passes=loop-unswitch -C passes=loop-simplify -C passes=loop-extract -C passes=loop-deletion -C passes=licm -C passes=lcssa -C passes=argpromotion -C passes=constprop \n",
      "`\u001b[4mcargo\u001b[24m \u001b[4mbuild\u001b[24m \u001b[4m--manifest-path\u001b[24m \u001b[4m../heap_vec_nolib/Cargo.toml\u001b[24m`\n"
     ]
    },
    {
     "name": "stderr",
     "output_type": "stream",
     "text": [
      "   Compiling libc v0.2.69\n",
      "   Compiling getrandom v0.1.14\n",
      "   Compiling cfg-if v0.1.10\n",
      "   Compiling ppv-lite86 v0.2.6\n",
      "   Compiling rand_core v0.5.1\n",
      "   Compiling rand_chacha v0.2.2\n",
      "   Compiling rand v0.7.3\n",
      "   Compiling matrix-multiply-raw v0.1.0 (/home/emanuel/Documentos/Git/matrix-multiply-test/heap_vec_nolib)\n",
      "    Finished dev [unoptimized + debuginfo] target(s) in 2.76s\n"
     ]
    },
    {
     "name": "stdout",
     "output_type": "stream",
     "text": [
      "-C lto=off -C no-prepopulate-passes -C passes=name-anon-globals -C passes=loop-unswitch -C passes=loop-unroll-and-jam -C passes=loop-rotate -C passes=loop-deletion -C passes=licm -C passes=lcssa -C passes=jump-threading -C passes=instcombine \n",
      "`\u001b[4mcargo\u001b[24m \u001b[4mbuild\u001b[24m \u001b[4m--manifest-path\u001b[24m \u001b[4m../heap_vec_nolib/Cargo.toml\u001b[24m`\n"
     ]
    },
    {
     "name": "stderr",
     "output_type": "stream",
     "text": [
      "   Compiling libc v0.2.69\n",
      "   Compiling getrandom v0.1.14\n",
      "   Compiling cfg-if v0.1.10\n",
      "   Compiling ppv-lite86 v0.2.6\n",
      "   Compiling rand_core v0.5.1\n",
      "   Compiling rand_chacha v0.2.2\n",
      "   Compiling rand v0.7.3\n",
      "   Compiling matrix-multiply-raw v0.1.0 (/home/emanuel/Documentos/Git/matrix-multiply-test/heap_vec_nolib)\n",
      "    Finished dev [unoptimized + debuginfo] target(s) in 2.90s\n"
     ]
    },
    {
     "name": "stdout",
     "output_type": "stream",
     "text": [
      "-C lto=off -C no-prepopulate-passes -C passes=name-anon-globals -C passes=loop-unroll-and-jam -C passes=loop-unroll -C passes=loop-reduce -C passes=licm -C passes=lcssa -C passes=jump-threading -C passes=argpromotion -C passes=constprop \n",
      "`\u001b[4mcargo\u001b[24m \u001b[4mbuild\u001b[24m \u001b[4m--manifest-path\u001b[24m \u001b[4m../heap_vec_nolib/Cargo.toml\u001b[24m`\n"
     ]
    },
    {
     "name": "stderr",
     "output_type": "stream",
     "text": [
      "   Compiling libc v0.2.69\n",
      "   Compiling getrandom v0.1.14\n",
      "   Compiling cfg-if v0.1.10\n",
      "   Compiling ppv-lite86 v0.2.6\n",
      "   Compiling rand_core v0.5.1\n",
      "   Compiling rand_chacha v0.2.2\n",
      "   Compiling rand v0.7.3\n",
      "   Compiling matrix-multiply-raw v0.1.0 (/home/emanuel/Documentos/Git/matrix-multiply-test/heap_vec_nolib)\n",
      "    Finished dev [unoptimized + debuginfo] target(s) in 2.76s\n"
     ]
    },
    {
     "name": "stdout",
     "output_type": "stream",
     "text": [
      "-C lto=off -C no-prepopulate-passes -C passes=name-anon-globals -C passes=loop-unroll -C passes=loop-simplify -C passes=loop-extract -C passes=lcssa -C passes=jump-threading -C passes=argpromotion -C passes=instcombine \n",
      "`\u001b[4mcargo\u001b[24m \u001b[4mbuild\u001b[24m \u001b[4m--manifest-path\u001b[24m \u001b[4m../heap_vec_nolib/Cargo.toml\u001b[24m`\n"
     ]
    },
    {
     "name": "stderr",
     "output_type": "stream",
     "text": [
      "   Compiling libc v0.2.69\n",
      "   Compiling getrandom v0.1.14\n",
      "   Compiling cfg-if v0.1.10\n",
      "   Compiling ppv-lite86 v0.2.6\n",
      "   Compiling rand_core v0.5.1\n",
      "   Compiling rand_chacha v0.2.2\n",
      "   Compiling rand v0.7.3\n",
      "   Compiling matrix-multiply-raw v0.1.0 (/home/emanuel/Documentos/Git/matrix-multiply-test/heap_vec_nolib)\n",
      "    Finished dev [unoptimized + debuginfo] target(s) in 2.71s\n"
     ]
    },
    {
     "name": "stdout",
     "output_type": "stream",
     "text": [
      "-C lto=off -C no-prepopulate-passes -C passes=name-anon-globals -C passes=memcpyopt -C passes=loop-simplify -C passes=loop-rotate -C passes=loop-deletion -C passes=jump-threading -C passes=argpromotion -C passes=instcombine -C passes=constprop \n",
      "`\u001b[4mcargo\u001b[24m \u001b[4mbuild\u001b[24m \u001b[4m--manifest-path\u001b[24m \u001b[4m../heap_vec_nolib/Cargo.toml\u001b[24m`\n"
     ]
    },
    {
     "name": "stderr",
     "output_type": "stream",
     "text": [
      "   Compiling libc v0.2.69\n",
      "   Compiling getrandom v0.1.14\n",
      "   Compiling cfg-if v0.1.10\n",
      "   Compiling ppv-lite86 v0.2.6\n",
      "   Compiling rand_core v0.5.1\n",
      "   Compiling rand_chacha v0.2.2\n",
      "   Compiling rand v0.7.3\n",
      "   Compiling matrix-multiply-raw v0.1.0 (/home/emanuel/Documentos/Git/matrix-multiply-test/heap_vec_nolib)\n",
      "    Finished dev [unoptimized + debuginfo] target(s) in 2.75s\n"
     ]
    },
    {
     "name": "stdout",
     "output_type": "stream",
     "text": [
      "-C lto=off -C no-prepopulate-passes -C passes=name-anon-globals -C passes=mem2reg -C passes=loop-rotate -C passes=loop-reduce -C passes=licm -C passes=argpromotion -C passes=instcombine -C passes=constprop \n",
      "`\u001b[4mcargo\u001b[24m \u001b[4mbuild\u001b[24m \u001b[4m--manifest-path\u001b[24m \u001b[4m../heap_vec_nolib/Cargo.toml\u001b[24m`\n"
     ]
    },
    {
     "name": "stderr",
     "output_type": "stream",
     "text": [
      "   Compiling libc v0.2.69\n",
      "   Compiling getrandom v0.1.14\n",
      "   Compiling cfg-if v0.1.10\n",
      "   Compiling ppv-lite86 v0.2.6\n",
      "   Compiling rand_core v0.5.1\n",
      "   Compiling rand_chacha v0.2.2\n",
      "   Compiling rand v0.7.3\n",
      "   Compiling matrix-multiply-raw v0.1.0 (/home/emanuel/Documentos/Git/matrix-multiply-test/heap_vec_nolib)\n",
      "    Finished dev [unoptimized + debuginfo] target(s) in 2.71s\n"
     ]
    },
    {
     "name": "stdout",
     "output_type": "stream",
     "text": [
      "-C lto=off -C no-prepopulate-passes -C passes=name-anon-globals -C passes=memcpyopt -C passes=loop-unswitch -C passes=loop-reduce -C passes=loop-extract -C passes=lcssa -C passes=instcombine -C passes=constprop \n",
      "`\u001b[4mcargo\u001b[24m \u001b[4mbuild\u001b[24m \u001b[4m--manifest-path\u001b[24m \u001b[4m../heap_vec_nolib/Cargo.toml\u001b[24m`\n"
     ]
    },
    {
     "name": "stderr",
     "output_type": "stream",
     "text": [
      "   Compiling libc v0.2.69\n",
      "   Compiling getrandom v0.1.14\n",
      "   Compiling cfg-if v0.1.10\n",
      "   Compiling ppv-lite86 v0.2.6\n",
      "   Compiling rand_core v0.5.1\n",
      "   Compiling rand_chacha v0.2.2\n",
      "   Compiling rand v0.7.3\n",
      "   Compiling matrix-multiply-raw v0.1.0 (/home/emanuel/Documentos/Git/matrix-multiply-test/heap_vec_nolib)\n",
      "    Finished dev [unoptimized + debuginfo] target(s) in 2.72s\n"
     ]
    },
    {
     "name": "stdout",
     "output_type": "stream",
     "text": [
      "-C lto=off -C no-prepopulate-passes -C passes=name-anon-globals -C passes=mem2reg -C passes=loop-unroll-and-jam -C passes=loop-extract -C passes=loop-deletion -C passes=jump-threading -C passes=constprop \n",
      "`\u001b[4mcargo\u001b[24m \u001b[4mbuild\u001b[24m \u001b[4m--manifest-path\u001b[24m \u001b[4m../heap_vec_nolib/Cargo.toml\u001b[24m`\n"
     ]
    },
    {
     "name": "stderr",
     "output_type": "stream",
     "text": [
      "   Compiling libc v0.2.69\n",
      "   Compiling getrandom v0.1.14\n",
      "   Compiling cfg-if v0.1.10\n",
      "   Compiling ppv-lite86 v0.2.6\n",
      "   Compiling rand_core v0.5.1\n",
      "   Compiling rand_chacha v0.2.2\n",
      "   Compiling rand v0.7.3\n",
      "   Compiling matrix-multiply-raw v0.1.0 (/home/emanuel/Documentos/Git/matrix-multiply-test/heap_vec_nolib)\n",
      "    Finished dev [unoptimized + debuginfo] target(s) in 2.73s\n"
     ]
    },
    {
     "name": "stdout",
     "output_type": "stream",
     "text": [
      "-C lto=off -C no-prepopulate-passes -C passes=name-anon-globals -C passes=memcpyopt -C passes=loop-unswitch -C passes=loop-unroll -C passes=loop-deletion -C passes=licm -C passes=argpromotion \n",
      "`\u001b[4mcargo\u001b[24m \u001b[4mbuild\u001b[24m \u001b[4m--manifest-path\u001b[24m \u001b[4m../heap_vec_nolib/Cargo.toml\u001b[24m`\n"
     ]
    },
    {
     "name": "stderr",
     "output_type": "stream",
     "text": [
      "   Compiling libc v0.2.69\n",
      "   Compiling getrandom v0.1.14\n",
      "   Compiling cfg-if v0.1.10\n",
      "   Compiling ppv-lite86 v0.2.6\n",
      "   Compiling rand_core v0.5.1\n",
      "   Compiling rand_chacha v0.2.2\n",
      "   Compiling rand v0.7.3\n",
      "   Compiling matrix-multiply-raw v0.1.0 (/home/emanuel/Documentos/Git/matrix-multiply-test/heap_vec_nolib)\n",
      "    Finished dev [unoptimized + debuginfo] target(s) in 2.74s\n"
     ]
    },
    {
     "name": "stdout",
     "output_type": "stream",
     "text": [
      "-C lto=off -C no-prepopulate-passes -C passes=name-anon-globals -C passes=memcpyopt -C passes=mem2reg -C passes=loop-unroll-and-jam -C passes=loop-simplify -C passes=licm -C passes=lcssa -C passes=instcombine \n",
      "`\u001b[4mcargo\u001b[24m \u001b[4mbuild\u001b[24m \u001b[4m--manifest-path\u001b[24m \u001b[4m../heap_vec_nolib/Cargo.toml\u001b[24m`\n"
     ]
    },
    {
     "name": "stderr",
     "output_type": "stream",
     "text": [
      "   Compiling libc v0.2.69\n",
      "   Compiling getrandom v0.1.14\n",
      "   Compiling cfg-if v0.1.10\n",
      "   Compiling ppv-lite86 v0.2.6\n",
      "   Compiling rand_core v0.5.1\n",
      "   Compiling rand_chacha v0.2.2\n",
      "   Compiling rand v0.7.3\n",
      "   Compiling matrix-multiply-raw v0.1.0 (/home/emanuel/Documentos/Git/matrix-multiply-test/heap_vec_nolib)\n",
      "    Finished dev [unoptimized + debuginfo] target(s) in 2.73s\n"
     ]
    },
    {
     "name": "stdout",
     "output_type": "stream",
     "text": [
      "-C lto=off -C no-prepopulate-passes -C passes=name-anon-globals -C passes=memcpyopt -C passes=mem2reg -C passes=loop-unswitch -C passes=loop-unroll -C passes=loop-rotate -C passes=lcssa -C passes=jump-threading -C passes=constprop \n",
      "`\u001b[4mcargo\u001b[24m \u001b[4mbuild\u001b[24m \u001b[4m--manifest-path\u001b[24m \u001b[4m../heap_vec_nolib/Cargo.toml\u001b[24m`\n"
     ]
    },
    {
     "name": "stderr",
     "output_type": "stream",
     "text": [
      "   Compiling libc v0.2.69\n",
      "   Compiling getrandom v0.1.14\n",
      "   Compiling cfg-if v0.1.10\n",
      "   Compiling ppv-lite86 v0.2.6\n",
      "   Compiling rand_core v0.5.1\n",
      "   Compiling rand_chacha v0.2.2\n",
      "   Compiling rand v0.7.3\n",
      "   Compiling matrix-multiply-raw v0.1.0 (/home/emanuel/Documentos/Git/matrix-multiply-test/heap_vec_nolib)\n",
      "    Finished dev [unoptimized + debuginfo] target(s) in 2.77s\n"
     ]
    },
    {
     "name": "stdout",
     "output_type": "stream",
     "text": [
      "-C lto=off -C no-prepopulate-passes -C passes=name-anon-globals -C passes=memcpyopt -C passes=mem2reg -C passes=loop-unswitch -C passes=loop-unroll-and-jam -C passes=loop-simplify -C passes=loop-reduce -C passes=jump-threading -C passes=argpromotion \n",
      "`\u001b[4mcargo\u001b[24m \u001b[4mbuild\u001b[24m \u001b[4m--manifest-path\u001b[24m \u001b[4m../heap_vec_nolib/Cargo.toml\u001b[24m`\n"
     ]
    },
    {
     "name": "stderr",
     "output_type": "stream",
     "text": [
      "   Compiling libc v0.2.69\n",
      "   Compiling getrandom v0.1.14\n",
      "   Compiling cfg-if v0.1.10\n",
      "   Compiling ppv-lite86 v0.2.6\n",
      "   Compiling rand_core v0.5.1\n",
      "   Compiling rand_chacha v0.2.2\n",
      "   Compiling rand v0.7.3\n",
      "   Compiling matrix-multiply-raw v0.1.0 (/home/emanuel/Documentos/Git/matrix-multiply-test/heap_vec_nolib)\n",
      "    Finished dev [unoptimized + debuginfo] target(s) in 2.77s\n"
     ]
    },
    {
     "name": "stdout",
     "output_type": "stream",
     "text": [
      "-C lto=off -C no-prepopulate-passes -C passes=name-anon-globals -C passes=mem2reg -C passes=loop-unswitch -C passes=loop-unroll-and-jam -C passes=loop-unroll -C passes=loop-rotate -C passes=loop-extract -C passes=argpromotion -C passes=instcombine \n",
      "`\u001b[4mcargo\u001b[24m \u001b[4mbuild\u001b[24m \u001b[4m--manifest-path\u001b[24m \u001b[4m../heap_vec_nolib/Cargo.toml\u001b[24m`\n"
     ]
    },
    {
     "name": "stderr",
     "output_type": "stream",
     "text": [
      "   Compiling libc v0.2.69\n",
      "   Compiling getrandom v0.1.14\n",
      "   Compiling cfg-if v0.1.10\n",
      "   Compiling ppv-lite86 v0.2.6\n",
      "   Compiling rand_core v0.5.1\n",
      "   Compiling rand_chacha v0.2.2\n",
      "   Compiling rand v0.7.3\n",
      "   Compiling matrix-multiply-raw v0.1.0 (/home/emanuel/Documentos/Git/matrix-multiply-test/heap_vec_nolib)\n",
      "    Finished dev [unoptimized + debuginfo] target(s) in 2.83s\n"
     ]
    },
    {
     "name": "stdout",
     "output_type": "stream",
     "text": [
      "20×20 DataFrame\n",
      "│ Row │ factor1 │ factor2 │ factor3 │ factor4 │ factor5 │ factor6 │ factor7 │\n",
      "│     │ \u001b[90mInt64\u001b[39m   │ \u001b[90mInt64\u001b[39m   │ \u001b[90mInt64\u001b[39m   │ \u001b[90mInt64\u001b[39m   │ \u001b[90mInt64\u001b[39m   │ \u001b[90mInt64\u001b[39m   │ \u001b[90mInt64\u001b[39m   │\n",
      "├─────┼─────────┼─────────┼─────────┼─────────┼─────────┼─────────┼─────────┤\n",
      "│ 1   │ 1       │ 1       │ 1       │ 1       │ 1       │ 1       │ 1       │\n",
      "│ 2   │ 1       │ 1       │ -1      │ -1      │ -1      │ -1      │ 1       │\n",
      "│ 3   │ 1       │ -1      │ -1      │ -1      │ -1      │ 1       │ -1      │\n",
      "│ 4   │ -1      │ -1      │ -1      │ -1      │ 1       │ -1      │ 1       │\n",
      "│ 5   │ -1      │ -1      │ -1      │ 1       │ -1      │ 1       │ -1      │\n",
      "│ 6   │ -1      │ -1      │ 1       │ -1      │ 1       │ -1      │ 1       │\n",
      "│ 7   │ -1      │ 1       │ -1      │ 1       │ -1      │ 1       │ 1       │\n",
      "│ 8   │ 1       │ -1      │ 1       │ -1      │ 1       │ 1       │ 1       │\n",
      "│ 9   │ -1      │ 1       │ -1      │ 1       │ 1       │ 1       │ 1       │\n",
      "│ 10  │ 1       │ -1      │ 1       │ 1       │ 1       │ 1       │ -1      │\n",
      "│ 11  │ -1      │ 1       │ 1       │ 1       │ 1       │ -1      │ -1      │\n",
      "│ 12  │ 1       │ 1       │ 1       │ 1       │ -1      │ -1      │ 1       │\n",
      "│ 13  │ 1       │ 1       │ 1       │ -1      │ -1      │ 1       │ -1      │\n",
      "│ 14  │ 1       │ 1       │ -1      │ -1      │ 1       │ -1      │ -1      │\n",
      "│ 15  │ 1       │ -1      │ -1      │ 1       │ -1      │ -1      │ 1       │\n",
      "│ 16  │ -1      │ -1      │ 1       │ -1      │ -1      │ 1       │ 1       │\n",
      "│ 17  │ -1      │ 1       │ -1      │ -1      │ 1       │ 1       │ -1      │\n",
      "│ 18  │ 1       │ -1      │ -1      │ 1       │ 1       │ -1      │ -1      │\n",
      "│ 19  │ -1      │ -1      │ 1       │ 1       │ -1      │ -1      │ -1      │\n",
      "│ 20  │ -1      │ 1       │ 1       │ -1      │ -1      │ -1      │ -1      │\n",
      "\n",
      "│ Row │ factor8 │ factor9 │ factor10 │ factor11 │ factor12 │ factor13 │\n",
      "│     │ \u001b[90mInt64\u001b[39m   │ \u001b[90mInt64\u001b[39m   │ \u001b[90mInt64\u001b[39m    │ \u001b[90mInt64\u001b[39m    │ \u001b[90mInt64\u001b[39m    │ \u001b[90mInt64\u001b[39m    │\n",
      "├─────┼─────────┼─────────┼──────────┼──────────┼──────────┼──────────┤\n",
      "│ 1   │ 1       │ 1       │ 1        │ 1        │ 1        │ 1        │\n",
      "│ 2   │ -1      │ 1       │ -1       │ 1        │ 1        │ 1        │\n",
      "│ 3   │ 1       │ -1      │ 1        │ 1        │ 1        │ 1        │\n",
      "│ 4   │ -1      │ 1       │ 1        │ 1        │ 1        │ -1       │\n",
      "│ 5   │ 1       │ 1       │ 1        │ 1        │ -1       │ -1       │\n",
      "│ 6   │ 1       │ 1       │ 1        │ -1       │ -1       │ 1        │\n",
      "│ 7   │ 1       │ 1       │ -1       │ -1       │ 1        │ -1       │\n",
      "│ 8   │ 1       │ -1      │ -1       │ 1        │ -1       │ -1       │\n",
      "│ 9   │ -1      │ -1      │ 1        │ -1       │ -1       │ 1        │\n",
      "│ 10  │ -1      │ 1       │ -1       │ -1       │ 1        │ 1        │\n",
      "│ 11  │ 1       │ -1      │ -1       │ 1        │ 1        │ -1       │\n",
      "│ 12  │ -1      │ -1      │ 1        │ 1        │ -1       │ -1       │\n",
      "│ 13  │ -1      │ 1       │ 1        │ -1       │ -1       │ -1       │\n",
      "│ 14  │ 1       │ 1       │ -1       │ -1       │ -1       │ -1       │\n",
      "│ 15  │ 1       │ -1      │ -1       │ -1       │ -1       │ 1        │\n",
      "│ 16  │ -1      │ -1      │ -1       │ -1       │ 1        │ -1       │\n",
      "│ 17  │ -1      │ -1      │ -1       │ 1        │ -1       │ 1        │\n",
      "│ 18  │ -1      │ -1      │ 1        │ -1       │ 1        │ -1       │\n",
      "│ 19  │ -1      │ 1       │ -1       │ 1        │ -1       │ 1        │\n",
      "│ 20  │ 1       │ -1      │ 1        │ -1       │ 1        │ 1        │\n",
      "\n",
      "│ Row │ factor14 │ factor15 │ factor16 │ dummy1 │ dummy2 │ dummy3 │ response │\n",
      "│     │ \u001b[90mInt64\u001b[39m    │ \u001b[90mInt64\u001b[39m    │ \u001b[90mInt64\u001b[39m    │ \u001b[90mInt64\u001b[39m  │ \u001b[90mInt64\u001b[39m  │ \u001b[90mInt64\u001b[39m  │ \u001b[90mFloat64\u001b[39m  │\n",
      "├─────┼──────────┼──────────┼──────────┼────────┼────────┼────────┼──────────┤\n",
      "│ 1   │ 1        │ 1        │ 1        │ 1      │ 1      │ 1      │ 17.7346  │\n",
      "│ 2   │ 1        │ -1       │ -1       │ 1      │ -1     │ -1     │ 19.9627  │\n",
      "│ 3   │ -1       │ -1       │ 1        │ -1     │ -1     │ 1      │ 25.3847  │\n",
      "│ 4   │ -1       │ 1        │ -1       │ -1     │ 1      │ 1      │ 21.4374  │\n",
      "│ 5   │ 1        │ -1       │ -1       │ 1      │ 1      │ -1     │ 21.9585  │\n",
      "│ 6   │ -1       │ -1       │ 1        │ 1      │ -1     │ -1     │ 25.1832  │\n",
      "│ 7   │ -1       │ 1        │ 1        │ -1     │ -1     │ -1     │ 17.3148  │\n",
      "│ 8   │ 1        │ 1        │ -1       │ -1     │ -1     │ -1     │ 21.9724  │\n",
      "│ 9   │ 1        │ -1       │ -1       │ -1     │ -1     │ 1      │ 18.1024  │\n",
      "│ 10  │ -1       │ -1       │ -1       │ -1     │ 1      │ -1     │ 22.4157  │\n",
      "│ 11  │ -1       │ -1       │ -1       │ 1      │ -1     │ 1      │ 17.7862  │\n",
      "│ 12  │ -1       │ -1       │ 1        │ -1     │ 1      │ -1     │ 17.687   │\n",
      "│ 13  │ -1       │ 1        │ -1       │ 1      │ -1     │ 1      │ 19.6785  │\n",
      "│ 14  │ 1        │ -1       │ 1        │ -1     │ 1      │ 1      │ 20.1867  │\n",
      "│ 15  │ -1       │ 1        │ -1       │ 1      │ 1      │ 1      │ 18.2371  │\n",
      "│ 16  │ 1        │ -1       │ 1        │ 1      │ 1      │ 1      │ 25.9728  │\n",
      "│ 17  │ -1       │ 1        │ 1        │ 1      │ 1      │ -1     │ 19.8654  │\n",
      "│ 18  │ 1        │ 1        │ 1        │ 1      │ -1     │ -1     │ 18.5776  │\n",
      "│ 19  │ 1        │ 1        │ 1        │ -1     │ -1     │ 1      │ 18.3834  │\n",
      "│ 20  │ 1        │ 1        │ -1       │ -1     │ 1      │ -1     │ 20.4072  │"
     ]
    }
   ],
   "source": [
    "Random.seed!(192938)\n",
    "design.matrix[!, :response] = y.(eachrow(design.matrix[:, collect(design.factors)]))\n",
    "show(design.matrix, allrows = true, allcols = true)"
   ]
  },
  {
   "cell_type": "markdown",
   "metadata": {},
   "source": [
    "Now, we use the `lm` function from the [GLM package](https://juliastats.org/GLM.jl/stable/) to fit a linear model using the design's matrix and formula:"
   ]
  },
  {
   "cell_type": "code",
   "execution_count": 61,
   "metadata": {},
   "outputs": [
    {
     "data": {
      "text/plain": [
       "StatsModels.TableRegressionModel{LinearModel{GLM.LmResp{Array{Float64,1}},GLM.DensePredChol{Float64,LinearAlgebra.Cholesky{Float64,Array{Float64,2}}}},Array{Float64,2}}\n",
       "\n",
       "response ~ 0 + factor1 + factor2 + factor3 + factor4 + factor5 + factor6 + factor7 + factor8 + factor9 + factor10 + factor11 + factor12 + factor13 + factor14 + factor15 + factor16 + dummy1 + dummy2 + dummy3\n",
       "\n",
       "Coefficients:\n",
       "──────────────────────────────────────────────────────────────────────────────\n",
       "            Estimate  Std. Error       t value  Pr(>|t|)  Lower 95%  Upper 95%\n",
       "──────────────────────────────────────────────────────────────────────────────\n",
       "factor1   -0.228706      20.4124  -0.0112043      0.9929   -259.593    259.136\n",
       "factor2   -1.53987       20.4124  -0.0754377      0.9521   -260.904    257.824\n",
       "factor3    0.3097        20.4124   0.0151721      0.9903   -259.055    259.674\n",
       "factor4   -1.59269       20.4124  -0.0780257      0.9504   -260.957    257.772\n",
       "factor5   -0.0862522     20.4124  -0.00422548     0.9973   -259.451    259.278\n",
       "factor6    0.627564      20.4124   0.0307443      0.9804   -258.737    259.992\n",
       "factor7   -0.0519659     20.4124  -0.0025458      0.9984   -259.416    259.312\n",
       "factor8    0.204116      20.4124   0.00999958     0.9936   -259.16     259.568\n",
       "factor9    0.0131351     20.4124   0.000643485    0.9996   -259.351    259.377\n",
       "factor10   0.202703      20.4124   0.00993039     0.9937   -259.162    259.567\n",
       "factor11  -0.195182      20.4124  -0.00956192     0.9939   -259.559    259.169\n",
       "factor12   0.286955      20.4124   0.0140579      0.9911   -259.077    259.651\n",
       "factor13   0.155227      20.4124   0.00760452     0.9952   -259.209    259.52\n",
       "factor14  -0.08658       20.4124  -0.00424154     0.9973   -259.451    259.278\n",
       "factor15  -1.05157       20.4124  -0.0515163      0.9672   -260.416    258.313\n",
       "factor16   0.216609      20.4124   0.0106116      0.9932   -259.148    259.581\n",
       "dummy1     0.0832505     20.4124   0.00407843     0.9974   -259.281    259.448\n",
       "dummy2     0.177828      20.4124   0.00871175     0.9945   -259.186    259.542\n",
       "dummy3    -0.122046      20.4124  -0.005979       0.9962   -259.486    259.242\n",
       "──────────────────────────────────────────────────────────────────────────────"
      ]
     },
     "execution_count": 61,
     "metadata": {},
     "output_type": "execute_result"
    }
   ],
   "source": [
    "lm(design.formula, design.matrix)"
   ]
  },
  {
   "cell_type": "markdown",
   "metadata": {},
   "source": [
    "The table below shows the coefficients estimated by the linear model fit using the Plackett-Burman Design. The purpose of a screening design is not to estimate the actual coefficients, but instead to compute factor main effects. \n",
    "\n",
    "\n",
    "# Fitting a Linear Model\n",
    "\n",
    "We can also try to fit a linear model on our design data in order to estimate coefficients. We would need to drop the dummy column and add the intercept term:"
   ]
  },
  {
   "cell_type": "code",
   "execution_count": 62,
   "metadata": {
    "scrolled": true
   },
   "outputs": [
    {
     "data": {
      "text/plain": [
       "StatsModels.TableRegressionModel{LinearModel{GLM.LmResp{Array{Float64,1}},GLM.DensePredChol{Float64,LinearAlgebra.Cholesky{Float64,Array{Float64,2}}}},Array{Float64,2}}\n",
       "\n",
       "response ~ 1 + factor1 + factor2 + factor3 + factor4 + factor5 + factor6 + factor7 + factor8 + factor9 + factor10 + factor11 + factor12 + factor13 + factor14 + factor15 + factor16\n",
       "\n",
       "Coefficients:\n",
       "────────────────────────────────────────────────────────────────────────────────\n",
       "               Estimate  Std. Error      t value  Pr(>|t|)  Lower 95%  Upper 95%\n",
       "────────────────────────────────────────────────────────────────────────────────\n",
       "(Intercept)  20.4124       0.133477  152.928        <1e-6   19.9876    20.8372\n",
       "factor1      -0.228706     0.133477   -1.71344      0.1851  -0.65349    0.196079\n",
       "factor2      -1.53987      0.133477  -11.5365       0.0014  -1.96465   -1.11508\n",
       "factor3       0.3097       0.133477    2.32024      0.1031  -0.115085   0.734484\n",
       "factor4      -1.59269      0.133477  -11.9323       0.0013  -2.01748   -1.16791\n",
       "factor5      -0.0862522    0.133477   -0.646194     0.5642  -0.511037   0.338532\n",
       "factor6       0.627564     0.133477    4.70165      0.0182   0.20278    1.05235\n",
       "factor7      -0.0519659    0.133477   -0.389324     0.7230  -0.47675    0.372819\n",
       "factor8       0.204116     0.133477    1.52921      0.2237  -0.220669   0.6289\n",
       "factor9       0.0131351    0.133477    0.0984068    0.9278  -0.411649   0.43792\n",
       "factor10      0.202703     0.133477    1.51863      0.2262  -0.222081   0.627488\n",
       "factor11     -0.195182     0.133477   -1.46228      0.2398  -0.619966   0.229603\n",
       "factor12      0.286955     0.133477    2.14984      0.1207  -0.137829   0.71174\n",
       "factor13      0.155227     0.133477    1.16294      0.3290  -0.269558   0.580011\n",
       "factor14     -0.08658      0.133477   -0.648649     0.5628  -0.511365   0.338205\n",
       "factor15     -1.05157      0.133477   -7.87829      0.0043  -1.47636   -0.626788\n",
       "factor16      0.216609     0.133477    1.62282      0.2031  -0.208175   0.641394\n",
       "────────────────────────────────────────────────────────────────────────────────"
      ]
     },
     "execution_count": 62,
     "metadata": {},
     "output_type": "execute_result"
    }
   ],
   "source": [
    "lm(term(:response) ~ sum(term.(design.factors)), design.matrix)"
   ]
  },
  {
   "cell_type": "markdown",
   "metadata": {},
   "source": [
    "\n",
    "\n",
    "# Generating Random Designs\n",
    "\n",
    "We can also compare the coefficients produced by the same linear model fit, but using a random design. For more information, check [the docs](https://phrb.github.io/ExperimentalDesign.jl/dev/lib/public/#ExperimentalDesign.RandomDesign-Tuple{NamedTuple})."
   ]
  },
  {
   "cell_type": "code",
   "execution_count": 63,
   "metadata": {},
   "outputs": [
    {
     "name": "stdout",
     "output_type": "stream",
     "text": [
      "-C lto=off -C no-prepopulate-passes -C passes=name-anon-globals -C passes=lcssa -C passes=instcombine \n",
      "`\u001b[4mcargo\u001b[24m \u001b[4mbuild\u001b[24m \u001b[4m--manifest-path\u001b[24m \u001b[4m../heap_vec_nolib/Cargo.toml\u001b[24m`\n"
     ]
    },
    {
     "name": "stderr",
     "output_type": "stream",
     "text": [
      "   Compiling libc v0.2.69\n",
      "   Compiling getrandom v0.1.14\n",
      "   Compiling cfg-if v0.1.10\n",
      "   Compiling ppv-lite86 v0.2.6\n",
      "   Compiling rand_core v0.5.1\n",
      "   Compiling rand_chacha v0.2.2\n",
      "   Compiling rand v0.7.3\n",
      "   Compiling matrix-multiply-raw v0.1.0 (/home/emanuel/Documentos/Git/matrix-multiply-test/heap_vec_nolib)\n",
      "    Finished dev [unoptimized + debuginfo] target(s) in 2.76s\n"
     ]
    },
    {
     "name": "stdout",
     "output_type": "stream",
     "text": [
      "-C lto=off -C no-prepopulate-passes -C passes=name-anon-globals -C passes=argpromotion \n",
      "`\u001b[4mcargo\u001b[24m \u001b[4mbuild\u001b[24m \u001b[4m--manifest-path\u001b[24m \u001b[4m../heap_vec_nolib/Cargo.toml\u001b[24m`\n"
     ]
    },
    {
     "name": "stderr",
     "output_type": "stream",
     "text": [
      "   Compiling libc v0.2.69\n",
      "   Compiling getrandom v0.1.14\n",
      "   Compiling cfg-if v0.1.10\n",
      "   Compiling ppv-lite86 v0.2.6\n",
      "   Compiling rand_core v0.5.1\n",
      "   Compiling rand_chacha v0.2.2\n",
      "   Compiling rand v0.7.3\n",
      "   Compiling matrix-multiply-raw v0.1.0 (/home/emanuel/Documentos/Git/matrix-multiply-test/heap_vec_nolib)\n",
      "    Finished dev [unoptimized + debuginfo] target(s) in 2.74s\n"
     ]
    },
    {
     "name": "stdout",
     "output_type": "stream",
     "text": [
      "-C lto=off -C no-prepopulate-passes -C passes=name-anon-globals -C passes=licm -C passes=lcssa -C passes=jump-threading -C passes=instcombine \n",
      "`\u001b[4mcargo\u001b[24m \u001b[4mbuild\u001b[24m \u001b[4m--manifest-path\u001b[24m \u001b[4m../heap_vec_nolib/Cargo.toml\u001b[24m`\n"
     ]
    },
    {
     "name": "stderr",
     "output_type": "stream",
     "text": [
      "   Compiling libc v0.2.69\n",
      "   Compiling getrandom v0.1.14\n",
      "   Compiling cfg-if v0.1.10\n",
      "   Compiling ppv-lite86 v0.2.6\n",
      "   Compiling rand_core v0.5.1\n",
      "   Compiling rand_chacha v0.2.2\n",
      "   Compiling rand v0.7.3\n",
      "   Compiling matrix-multiply-raw v0.1.0 (/home/emanuel/Documentos/Git/matrix-multiply-test/heap_vec_nolib)\n",
      "    Finished dev [unoptimized + debuginfo] target(s) in 2.83s\n"
     ]
    },
    {
     "name": "stdout",
     "output_type": "stream",
     "text": [
      "-C lto=off -C no-prepopulate-passes -C passes=name-anon-globals -C passes=licm -C passes=lcssa -C passes=jump-threading -C passes=argpromotion \n",
      "`\u001b[4mcargo\u001b[24m \u001b[4mbuild\u001b[24m \u001b[4m--manifest-path\u001b[24m \u001b[4m../heap_vec_nolib/Cargo.toml\u001b[24m`\n"
     ]
    },
    {
     "name": "stderr",
     "output_type": "stream",
     "text": [
      "   Compiling libc v0.2.69\n",
      "   Compiling getrandom v0.1.14\n",
      "   Compiling cfg-if v0.1.10\n",
      "   Compiling ppv-lite86 v0.2.6\n",
      "   Compiling rand_core v0.5.1\n",
      "   Compiling rand_chacha v0.2.2\n",
      "   Compiling rand v0.7.3\n",
      "   Compiling matrix-multiply-raw v0.1.0 (/home/emanuel/Documentos/Git/matrix-multiply-test/heap_vec_nolib)\n",
      "    Finished dev [unoptimized + debuginfo] target(s) in 2.78s\n"
     ]
    },
    {
     "name": "stdout",
     "output_type": "stream",
     "text": [
      "-C lto=off -C no-prepopulate-passes -C passes=name-anon-globals -C passes=lcssa -C passes=argpromotion -C passes=instcombine \n",
      "`\u001b[4mcargo\u001b[24m \u001b[4mbuild\u001b[24m \u001b[4m--manifest-path\u001b[24m \u001b[4m../heap_vec_nolib/Cargo.toml\u001b[24m`\n"
     ]
    },
    {
     "name": "stderr",
     "output_type": "stream",
     "text": [
      "   Compiling libc v0.2.69\n",
      "   Compiling getrandom v0.1.14\n",
      "   Compiling cfg-if v0.1.10\n",
      "   Compiling ppv-lite86 v0.2.6\n",
      "   Compiling rand_core v0.5.1\n",
      "   Compiling rand_chacha v0.2.2\n",
      "   Compiling rand v0.7.3\n",
      "   Compiling matrix-multiply-raw v0.1.0 (/home/emanuel/Documentos/Git/matrix-multiply-test/heap_vec_nolib)\n",
      "    Finished dev [unoptimized + debuginfo] target(s) in 2.78s\n"
     ]
    },
    {
     "name": "stdout",
     "output_type": "stream",
     "text": [
      "-C lto=off -C no-prepopulate-passes -C passes=name-anon-globals -C passes=argpromotion -C passes=constprop \n",
      "`\u001b[4mcargo\u001b[24m \u001b[4mbuild\u001b[24m \u001b[4m--manifest-path\u001b[24m \u001b[4m../heap_vec_nolib/Cargo.toml\u001b[24m`\n"
     ]
    },
    {
     "name": "stderr",
     "output_type": "stream",
     "text": [
      "   Compiling libc v0.2.69\n",
      "   Compiling getrandom v0.1.14\n",
      "   Compiling cfg-if v0.1.10\n",
      "   Compiling ppv-lite86 v0.2.6\n",
      "   Compiling rand_core v0.5.1\n",
      "   Compiling rand_chacha v0.2.2\n",
      "   Compiling rand v0.7.3\n",
      "   Compiling matrix-multiply-raw v0.1.0 (/home/emanuel/Documentos/Git/matrix-multiply-test/heap_vec_nolib)\n",
      "    Finished dev [unoptimized + debuginfo] target(s) in 2.84s\n"
     ]
    },
    {
     "name": "stdout",
     "output_type": "stream",
     "text": [
      "-C lto=off -C no-prepopulate-passes -C passes=name-anon-globals -C passes=argpromotion \n",
      "`\u001b[4mcargo\u001b[24m \u001b[4mbuild\u001b[24m \u001b[4m--manifest-path\u001b[24m \u001b[4m../heap_vec_nolib/Cargo.toml\u001b[24m`\n"
     ]
    },
    {
     "name": "stderr",
     "output_type": "stream",
     "text": [
      "   Compiling libc v0.2.69\n",
      "   Compiling getrandom v0.1.14\n",
      "   Compiling cfg-if v0.1.10\n",
      "   Compiling ppv-lite86 v0.2.6\n",
      "   Compiling rand_core v0.5.1\n",
      "   Compiling rand_chacha v0.2.2\n",
      "   Compiling rand v0.7.3\n",
      "   Compiling matrix-multiply-raw v0.1.0 (/home/emanuel/Documentos/Git/matrix-multiply-test/heap_vec_nolib)\n",
      "    Finished dev [unoptimized + debuginfo] target(s) in 2.79s\n"
     ]
    },
    {
     "name": "stdout",
     "output_type": "stream",
     "text": [
      "-C lto=off -C no-prepopulate-passes -C passes=name-anon-globals -C passes=lcssa -C passes=jump-threading -C passes=argpromotion \n",
      "`\u001b[4mcargo\u001b[24m \u001b[4mbuild\u001b[24m \u001b[4m--manifest-path\u001b[24m \u001b[4m../heap_vec_nolib/Cargo.toml\u001b[24m`\n"
     ]
    },
    {
     "name": "stderr",
     "output_type": "stream",
     "text": [
      "   Compiling libc v0.2.69\n",
      "   Compiling getrandom v0.1.14\n",
      "   Compiling cfg-if v0.1.10\n",
      "   Compiling ppv-lite86 v0.2.6\n",
      "   Compiling rand_core v0.5.1\n",
      "   Compiling rand_chacha v0.2.2\n",
      "   Compiling rand v0.7.3\n",
      "   Compiling matrix-multiply-raw v0.1.0 (/home/emanuel/Documentos/Git/matrix-multiply-test/heap_vec_nolib)\n",
      "    Finished dev [unoptimized + debuginfo] target(s) in 2.77s\n"
     ]
    },
    {
     "data": {
      "text/html": [
       "<table class=\"data-frame\"><thead><tr><th></th><th>factor1</th><th>factor2</th><th>factor3</th><th>factor4</th><th>factor5</th><th>factor6</th><th>response</th></tr><tr><th></th><th>Int64</th><th>Int64</th><th>Int64</th><th>Int64</th><th>Int64</th><th>Int64</th><th>Float64</th></tr></thead><tbody><p>8 rows × 7 columns</p><tr><th>1</th><td>-1</td><td>1</td><td>-1</td><td>-1</td><td>1</td><td>-1</td><td>20.202</td></tr><tr><th>2</th><td>-1</td><td>-1</td><td>1</td><td>-1</td><td>-1</td><td>-1</td><td>25.5836</td></tr><tr><th>3</th><td>-1</td><td>1</td><td>-1</td><td>1</td><td>1</td><td>1</td><td>17.8959</td></tr><tr><th>4</th><td>-1</td><td>-1</td><td>1</td><td>1</td><td>1</td><td>1</td><td>22.5354</td></tr><tr><th>5</th><td>-1</td><td>1</td><td>1</td><td>-1</td><td>1</td><td>-1</td><td>20.1528</td></tr><tr><th>6</th><td>1</td><td>-1</td><td>1</td><td>-1</td><td>-1</td><td>-1</td><td>25.2826</td></tr><tr><th>7</th><td>-1</td><td>-1</td><td>1</td><td>-1</td><td>-1</td><td>-1</td><td>25.3227</td></tr><tr><th>8</th><td>-1</td><td>-1</td><td>1</td><td>1</td><td>1</td><td>-1</td><td>22.0858</td></tr></tbody></table>"
      ],
      "text/latex": [
       "\\begin{tabular}{r|ccccccc}\n",
       "\t& factor1 & factor2 & factor3 & factor4 & factor5 & factor6 & response\\\\\n",
       "\t\\hline\n",
       "\t& Int64 & Int64 & Int64 & Int64 & Int64 & Int64 & Float64\\\\\n",
       "\t\\hline\n",
       "\t1 & -1 & 1 & -1 & -1 & 1 & -1 & 20.202 \\\\\n",
       "\t2 & -1 & -1 & 1 & -1 & -1 & -1 & 25.5836 \\\\\n",
       "\t3 & -1 & 1 & -1 & 1 & 1 & 1 & 17.8959 \\\\\n",
       "\t4 & -1 & -1 & 1 & 1 & 1 & 1 & 22.5354 \\\\\n",
       "\t5 & -1 & 1 & 1 & -1 & 1 & -1 & 20.1528 \\\\\n",
       "\t6 & 1 & -1 & 1 & -1 & -1 & -1 & 25.2826 \\\\\n",
       "\t7 & -1 & -1 & 1 & -1 & -1 & -1 & 25.3227 \\\\\n",
       "\t8 & -1 & -1 & 1 & 1 & 1 & -1 & 22.0858 \\\\\n",
       "\\end{tabular}\n"
      ],
      "text/plain": [
       "8×7 DataFrame\n",
       "│ Row │ factor1 │ factor2 │ factor3 │ factor4 │ factor5 │ factor6 │ response │\n",
       "│     │ \u001b[90mInt64\u001b[39m   │ \u001b[90mInt64\u001b[39m   │ \u001b[90mInt64\u001b[39m   │ \u001b[90mInt64\u001b[39m   │ \u001b[90mInt64\u001b[39m   │ \u001b[90mInt64\u001b[39m   │ \u001b[90mFloat64\u001b[39m  │\n",
       "├─────┼─────────┼─────────┼─────────┼─────────┼─────────┼─────────┼──────────┤\n",
       "│ 1   │ -1      │ 1       │ -1      │ -1      │ 1       │ -1      │ 20.202   │\n",
       "│ 2   │ -1      │ -1      │ 1       │ -1      │ -1      │ -1      │ 25.5836  │\n",
       "│ 3   │ -1      │ 1       │ -1      │ 1       │ 1       │ 1       │ 17.8959  │\n",
       "│ 4   │ -1      │ -1      │ 1       │ 1       │ 1       │ 1       │ 22.5354  │\n",
       "│ 5   │ -1      │ 1       │ 1       │ -1      │ 1       │ -1      │ 20.1528  │\n",
       "│ 6   │ 1       │ -1      │ 1       │ -1      │ -1      │ -1      │ 25.2826  │\n",
       "│ 7   │ -1      │ -1      │ 1       │ -1      │ -1      │ -1      │ 25.3227  │\n",
       "│ 8   │ -1      │ -1      │ 1       │ 1       │ 1       │ -1      │ 22.0858  │"
      ]
     },
     "execution_count": 63,
     "metadata": {},
     "output_type": "execute_result"
    }
   ],
   "source": [
    "Random.seed!(8418172)\n",
    "\n",
    "random_design_generator = RandomDesign(DiscreteNonParametric([-1, 1], [0.5, 0.5]), 6)\n",
    "random_design = rand(random_design_generator, 8)\n",
    "\n",
    "random_design[!, :response] = y.(eachrow(random_design[:, :]))\n",
    "random_design"
   ]
  },
  {
   "cell_type": "code",
   "execution_count": 64,
   "metadata": {},
   "outputs": [
    {
     "data": {
      "text/plain": [
       "StatsModels.TableRegressionModel{LinearModel{GLM.LmResp{Array{Float64,1}},GLM.DensePredChol{Float64,LinearAlgebra.Cholesky{Float64,Array{Float64,2}}}},Array{Float64,2}}\n",
       "\n",
       "response ~ 1 + factor1 + factor2 + factor3 + factor4 + factor5 + factor6\n",
       "\n",
       "Coefficients:\n",
       "──────────────────────────────────────────────────────────────────────────────────\n",
       "               Estimate  Std. Error     t value  Pr(>|t|)  Lower 95%     Upper 95%\n",
       "──────────────────────────────────────────────────────────────────────────────────\n",
       "(Intercept)  21.5893       0.130491  165.447       0.0038   19.9312   23.2473\n",
       "factor1      -0.0852702    0.113008   -0.754549    0.5885   -1.52117   1.35063\n",
       "factor2      -2.34439      0.184541  -12.7039      0.0500   -4.68921   0.000431755\n",
       "factor3      -0.0246326    0.130491   -0.188769    0.8812   -1.68267   1.63341\n",
       "factor4      -1.37786      0.184541   -7.46638     0.0848   -3.72268   0.966965\n",
       "factor5      -0.305796     0.172623   -1.77147     0.3272   -2.49918   1.88758\n",
       "factor6       0.2248       0.130491    1.72273     0.3348   -1.43324   1.88284\n",
       "──────────────────────────────────────────────────────────────────────────────────"
      ]
     },
     "execution_count": 64,
     "metadata": {},
     "output_type": "execute_result"
    }
   ],
   "source": [
    "lm(random_design_generator.formula, random_design)"
   ]
  }
 ],
 "metadata": {
  "kernelspec": {
   "display_name": "Julia 1.4.0",
   "language": "julia",
   "name": "julia-1.4"
  },
  "language_info": {
   "file_extension": ".jl",
   "mimetype": "application/julia",
   "name": "julia",
   "version": "1.4.0"
  }
 },
 "nbformat": 4,
 "nbformat_minor": 4
}
